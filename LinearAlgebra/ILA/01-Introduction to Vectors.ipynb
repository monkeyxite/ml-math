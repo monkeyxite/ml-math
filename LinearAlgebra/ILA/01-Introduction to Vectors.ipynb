{
 "cells": [
  {
   "cell_type": "markdown",
   "metadata": {},
   "source": [
    "# Introduction to Vectors\n",
    "\n",
    "## Vector Intro\n",
    "### contents\n",
    "\n",
    "Too easy to\n",
    "describe.... notice the pdf notes in Dropbox is fair enough.\n",
    "\n",
    "### Problem Set\n",
    "1.1"
   ]
  },
  {
   "cell_type": "code",
   "execution_count": 2,
   "metadata": {
    "attributes": {
     "classes": [],
     "id": "",
     "n": "2"
    }
   },
   "outputs": [],
   "source": [
    "from sympy import *\n",
    "init_printing(use_latex='mathjax')"
   ]
  },
  {
   "cell_type": "code",
   "execution_count": 11,
   "metadata": {
    "attributes": {
     "classes": [],
     "id": "",
     "n": "11"
    }
   },
   "outputs": [
    {
     "data": {
      "text/latex": [
       "$$\\left ( \\left[\\begin{matrix}1\\\\2\\\\3\\end{matrix}\\right], \\quad \\left[\\begin{matrix}3\\\\6\\\\9\\end{matrix}\\right], \\quad \\left[\\begin{matrix}3\\\\6\\\\9\\end{matrix}\\right]\\right )$$"
      ],
      "text/plain": [
       "⎛⎡1⎤  ⎡3⎤  ⎡3⎤⎞\n",
       "⎜⎢ ⎥  ⎢ ⎥  ⎢ ⎥⎟\n",
       "⎜⎢2⎥, ⎢6⎥, ⎢6⎥⎟\n",
       "⎜⎢ ⎥  ⎢ ⎥  ⎢ ⎥⎟\n",
       "⎝⎣3⎦  ⎣9⎦  ⎣9⎦⎠"
      ]
     },
     "execution_count": 11,
     "metadata": {},
     "output_type": "execute_result"
    }
   ],
   "source": [
    "#1.(a)\n",
    "X, Y = Matrix([[1], [2],[3]]), Matrix([[3],[6], [9]])\n",
    "X,Y, 3*X\n",
    "\n",
    "# So line stands for linear combination of X, Y"
   ]
  },
  {
   "cell_type": "code",
   "execution_count": 13,
   "metadata": {
    "attributes": {
     "classes": [],
     "id": "",
     "n": "13"
    }
   },
   "outputs": [
    {
     "data": {
      "text/latex": [
       "$$\\left ( \\left[\\begin{matrix}1\\\\0\\\\0\\end{matrix}\\right], \\quad \\left[\\begin{matrix}0\\\\2\\\\3\\end{matrix}\\right]\\right )$$"
      ],
      "text/plain": [
       "⎛⎡1⎤  ⎡0⎤⎞\n",
       "⎜⎢ ⎥  ⎢ ⎥⎟\n",
       "⎜⎢0⎥, ⎢2⎥⎟\n",
       "⎜⎢ ⎥  ⎢ ⎥⎟\n",
       "⎝⎣0⎦  ⎣3⎦⎠"
      ]
     },
     "execution_count": 13,
     "metadata": {},
     "output_type": "execute_result"
    }
   ],
   "source": [
    "#1.(b)\n",
    "X, Y = Matrix([[1], [0],[0]]), Matrix([[0],[2], [3]])\n",
    "X,Y\n",
    "\n",
    "# aX+bY=cX or cY does not have none zero solution, so their combintion stands for line"
   ]
  },
  {
   "cell_type": "code",
   "execution_count": 14,
   "metadata": {
    "attributes": {
     "classes": [],
     "id": "",
     "n": "14"
    }
   },
   "outputs": [
    {
     "data": {
      "text/latex": [
       "$$\\left ( \\left[\\begin{matrix}2\\\\0\\\\0\\end{matrix}\\right], \\quad \\left[\\begin{matrix}0\\\\2\\\\2\\end{matrix}\\right], \\quad \\left[\\begin{matrix}2\\\\2\\\\3\\end{matrix}\\right]\\right )$$"
      ],
      "text/plain": [
       "⎛⎡2⎤  ⎡0⎤  ⎡2⎤⎞\n",
       "⎜⎢ ⎥  ⎢ ⎥  ⎢ ⎥⎟\n",
       "⎜⎢0⎥, ⎢2⎥, ⎢2⎥⎟\n",
       "⎜⎢ ⎥  ⎢ ⎥  ⎢ ⎥⎟\n",
       "⎝⎣0⎦  ⎣2⎦  ⎣3⎦⎠"
      ]
     },
     "execution_count": 14,
     "metadata": {},
     "output_type": "execute_result"
    }
   ],
   "source": [
    "#1.(c)\n",
    "X, Y, Z = Matrix([[2], [0],[0]]), Matrix([[0],[2], [2]]), Matrix([[2],[2], [3]])\n",
    "X,Y, Z\n",
    "\n",
    "# R^3"
   ]
  },
  {
   "cell_type": "markdown",
   "metadata": {},
   "source": [
    "## Lengths and Dot Products\n",
    "\n",
    "### Key tech\n",
    "\n",
    "By using numpy to calculate:\n",
    "\n",
    "* Dot\n",
    "product\n",
    "* Length (normalization)\n",
    "* Cosine Formula (Schwaza Inequality) \n",
    "*\n",
    "Triangle Inequality"
   ]
  },
  {
   "cell_type": "code",
   "execution_count": 7,
   "metadata": {
    "attributes": {
     "classes": [],
     "id": "",
     "n": "7"
    }
   },
   "outputs": [
    {
     "data": {
      "text/plain": [
       "(11, 11)"
      ]
     },
     "execution_count": 7,
     "metadata": {},
     "output_type": "execute_result"
    }
   ],
   "source": [
    "import numpy as np\n",
    "X=[1,2]\n",
    "Y=[3,4]\n",
    "#dot mutiply\n",
    "np.dot(X,Y), np.vdot(X,Y)"
   ]
  },
  {
   "cell_type": "code",
   "execution_count": 10,
   "metadata": {
    "attributes": {
     "classes": [],
     "id": "",
     "n": "10"
    }
   },
   "outputs": [
    {
     "name": "stdout",
     "output_type": "stream",
     "text": [
      "True\n"
     ]
    },
    {
     "data": {
      "text/plain": [
       "(0.17985349979247847, 0.057249147048700245)"
      ]
     },
     "execution_count": 10,
     "metadata": {},
     "output_type": "execute_result"
    }
   ],
   "source": [
    "#cosine formula, or Schwaza Inequality by divede to prove\n",
    "cosine=np.dot(X,Y)/(np.linalg.norm(X)*np.linalg.norm(Y))\n",
    "\n",
    "#Triangle Inequality\n",
    "print(np.linalg.norm(X+Y) < np.linalg.norm(X) + np.linalg.norm(Y))\n",
    "\n",
    "#angle include pi and angle\n",
    "np.arccos(cosine), np.arccos(cosine)/np.pi"
   ]
  },
  {
   "cell_type": "markdown",
   "metadata": {},
   "source": [
    "### Problem Set 1.2"
   ]
  },
  {
   "cell_type": "code",
   "execution_count": 22,
   "metadata": {
    "attributes": {
     "classes": [],
     "id": "",
     "n": "22"
    }
   },
   "outputs": [
    {
     "data": {
      "text/latex": [
       "$$\\left ( \\left [ -0.6, \\quad 0.8\\right ], \\quad \\left [ 3, \\quad 4\\right ], \\quad \\left [ 8, \\quad 6\\right ], \\quad 1.4000000000000004, \\quad 8.881784197001252e-16, \\quad 1.4000000000000004\\right )$$"
      ],
      "text/plain": [
       "([-0.6, 0.8], [3, 4], [8, 6], 1.4000000000000004, 8.881784197001252e-16, 1.400\n",
       "0000000000004)"
      ]
     },
     "execution_count": 22,
     "metadata": {},
     "output_type": "execute_result"
    }
   ],
   "source": [
    "#1\n",
    "u = [-0.6, 0.8]\n",
    "v = [3,4]\n",
    "w = [8,6]\n",
    "\n",
    "u, v, w, np.dot(u,v),np.dot(u,w), np.dot(u,np.add(v,w))\n"
   ]
  },
  {
   "cell_type": "code",
   "execution_count": 23,
   "metadata": {
    "attributes": {
     "classes": [],
     "id": "",
     "n": "23"
    }
   },
   "outputs": [
    {
     "data": {
      "text/plain": [
       "(1.0, 5.0, 10.0, True, True)"
      ]
     },
     "execution_count": 23,
     "metadata": {},
     "output_type": "execute_result"
    }
   ],
   "source": [
    "#2\n",
    "np.linalg.norm(u),np.linalg.norm(v),np.linalg.norm(w), np.dot(u,v)<=np.linalg.norm(u)*np.linalg.norm(v), np.dot(u,w)<=np.linalg.norm(u)*np.linalg.norm(w)"
   ]
  },
  {
   "cell_type": "code",
   "execution_count": 28,
   "metadata": {
    "attributes": {
     "classes": [],
     "id": "",
     "n": "28"
    }
   },
   "outputs": [
    {
     "data": {
      "text/plain": [
       "(array([0.8, 0.6]),\n",
       " [0.14142135623730964, 0.9899494936611665],\n",
       " [-0.5999999999999999, 0.8000000000000002])"
      ]
     },
     "execution_count": 28,
     "metadata": {},
     "output_type": "execute_result"
    }
   ],
   "source": [
    "#3\n",
    "#0* unit vector of w0\n",
    "w0=w/np.linalg.norm(w)\n",
    "#90* unit vector of w1\n",
    "theta1 = np.arccos(w0[0]/1)+np.pi/4\n",
    "w1 = [np.cos(theta1),np.sin(theta1)]\n",
    "#180* unit vector of w\n",
    "theta2 = np.arccos(w0[0]/1)+np.pi/2\n",
    "w2 = [np.cos(theta2),np.sin(theta2)]\n",
    "w0,w1,w2"
   ]
  },
  {
   "cell_type": "code",
   "execution_count": 31,
   "metadata": {
    "attributes": {
     "classes": [],
     "id": "",
     "n": "31"
    }
   },
   "outputs": [
    {
     "data": {
      "text/latex": [
       "$$\\left ( -1.0, \\quad 0.0, \\quad -3.0\\right )$$"
      ],
      "text/plain": [
       "(-1.0, 0.0, -3.0)"
      ]
     },
     "execution_count": 31,
     "metadata": {},
     "output_type": "execute_result"
    }
   ],
   "source": [
    "#4\n",
    "#take special exmaple, then induct into general one due to norm value of unit value\n",
    "v0 = v/np.linalg.norm(v)\n",
    "np.dot(v0, -1*v0), np.dot((v0+w0),(v0-w0)), np.dot((v0+2*w0),(v0-2*w0))"
   ]
  },
  {
   "cell_type": "code",
   "execution_count": 35,
   "metadata": {
    "attributes": {
     "classes": [],
     "id": "",
     "n": "35"
    }
   },
   "outputs": [
    {
     "data": {
      "text/latex": [
       "$$0.07336707447322852$$"
      ],
      "text/plain": [
       "0.07336707447322852"
      ]
     },
     "execution_count": 35,
     "metadata": {},
     "output_type": "execute_result"
    }
   ],
   "source": [
    "#32\n",
    "#randn(3,1) equalvant func in np is randn under random lib, but the parameter meaning is different compared with matlab\n",
    "v = np.random.randn(1,3)\n",
    "u = v/np.linalg.norm(v)\n",
    "v30 = np.random.randn(30,3)\n",
    "U30 = [v30[i]/np.linalg.norm(v30[i]) for i in range(30)]\n",
    "np.average([np.dot(u, U30[i]) for i in range(30)])"
   ]
  },
  {
   "cell_type": "code",
   "execution_count": null,
   "metadata": {},
   "outputs": [],
   "source": [
    "print u"
   ]
  },
  {
   "cell_type": "markdown",
   "metadata": {},
   "source": [
    "## Matrix\n",
    "\n",
    "### Content\n",
    "1. **Maxtrix times vecotr** : $Ax$ = combination of the colummns of $A$ .\n",
    "2. The solution to $Ax =b$ is $x = A^{-1} B$ when $A$ is an invertible matix\n",
    "3. The difference matrix $A$ is inverted by the sum matrix $S = A^{-1}$\n",
    "4. The cyclic matrix $C$ has no inverse. Its three columns lie in the same plane. Those dependenct columns andd to the zero vector. $Cx = 0$ has many solutions.\n",
    "\n",
    "### Probelm Set 1.3"
   ]
  },
  {
   "cell_type": "code",
   "execution_count": null,
   "metadata": {},
   "outputs": [],
   "source": []
  }
 ],
 "metadata": {
  "kernelspec": {
   "display_name": "Python 3",
   "language": "python",
   "name": "python3"
  },
  "language_info": {
   "codemirror_mode": {
    "name": "ipython",
    "version": 3
   },
   "file_extension": ".py",
   "mimetype": "text/x-python",
   "name": "python",
   "nbconvert_exporter": "python",
   "pygments_lexer": "ipython3",
   "version": "3.7.0"
  },
  "toc": {
   "base_numbering": 1,
   "nav_menu": {},
   "number_sections": true,
   "sideBar": true,
   "skip_h1_title": false,
   "title_cell": "Table of Contents",
   "title_sidebar": "Contents",
   "toc_cell": false,
   "toc_position": {},
   "toc_section_display": true,
   "toc_window_display": false
  },
  "varInspector": {
   "cols": {
    "lenName": 16,
    "lenType": 16,
    "lenVar": 40
   },
   "kernels_config": {
    "python": {
     "delete_cmd_postfix": "",
     "delete_cmd_prefix": "del ",
     "library": "var_list.py",
     "varRefreshCmd": "print(var_dic_list())"
    },
    "r": {
     "delete_cmd_postfix": ") ",
     "delete_cmd_prefix": "rm(",
     "library": "var_list.r",
     "varRefreshCmd": "cat(var_dic_list()) "
    }
   },
   "types_to_exclude": [
    "module",
    "function",
    "builtin_function_or_method",
    "instance",
    "_Feature"
   ],
   "window_display": false
  }
 },
 "nbformat": 4,
 "nbformat_minor": 2
}
