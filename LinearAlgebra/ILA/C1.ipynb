{
 "cells": [
  {
   "cell_type": "markdown",
   "metadata": {},
   "source": [
    "# Introduction to Vectors\n",
    "\n",
    "## Contents\n",
    "\n",
    "Too easy to describe.... notice the pdf notes in Dropbox is fair enough.\n",
    "\n",
    "## Problem Set 1.1"
   ]
  },
  {
   "cell_type": "code",
   "execution_count": 2,
   "metadata": {},
   "outputs": [],
   "source": [
    "from sympy import *\n",
    "init_printing(use_latex='mathjax')"
   ]
  },
  {
   "cell_type": "code",
   "execution_count": 11,
   "metadata": {},
   "outputs": [
    {
     "data": {
      "text/latex": [
       "$$\\left ( \\left[\\begin{matrix}1\\\\2\\\\3\\end{matrix}\\right], \\quad \\left[\\begin{matrix}3\\\\6\\\\9\\end{matrix}\\right], \\quad \\left[\\begin{matrix}3\\\\6\\\\9\\end{matrix}\\right]\\right )$$"
      ],
      "text/plain": [
       "⎛⎡1⎤  ⎡3⎤  ⎡3⎤⎞\n",
       "⎜⎢ ⎥  ⎢ ⎥  ⎢ ⎥⎟\n",
       "⎜⎢2⎥, ⎢6⎥, ⎢6⎥⎟\n",
       "⎜⎢ ⎥  ⎢ ⎥  ⎢ ⎥⎟\n",
       "⎝⎣3⎦  ⎣9⎦  ⎣9⎦⎠"
      ]
     },
     "execution_count": 11,
     "metadata": {},
     "output_type": "execute_result"
    }
   ],
   "source": [
    "#1.(a)\n",
    "X, Y = Matrix([[1], [2],[3]]), Matrix([[3],[6], [9]])\n",
    "X,Y, 3*X\n",
    "\n",
    "# So line stands for linear combination of X, Y"
   ]
  },
  {
   "cell_type": "code",
   "execution_count": 13,
   "metadata": {},
   "outputs": [
    {
     "data": {
      "text/latex": [
       "$$\\left ( \\left[\\begin{matrix}1\\\\0\\\\0\\end{matrix}\\right], \\quad \\left[\\begin{matrix}0\\\\2\\\\3\\end{matrix}\\right]\\right )$$"
      ],
      "text/plain": [
       "⎛⎡1⎤  ⎡0⎤⎞\n",
       "⎜⎢ ⎥  ⎢ ⎥⎟\n",
       "⎜⎢0⎥, ⎢2⎥⎟\n",
       "⎜⎢ ⎥  ⎢ ⎥⎟\n",
       "⎝⎣0⎦  ⎣3⎦⎠"
      ]
     },
     "execution_count": 13,
     "metadata": {},
     "output_type": "execute_result"
    }
   ],
   "source": [
    "#1.(b)\n",
    "X, Y = Matrix([[1], [0],[0]]), Matrix([[0],[2], [3]])\n",
    "X,Y\n",
    "\n",
    "# aX+bY=cX or cY does not have none zero solution, so their combintion stands for line"
   ]
  },
  {
   "cell_type": "code",
   "execution_count": 14,
   "metadata": {},
   "outputs": [
    {
     "data": {
      "text/latex": [
       "$$\\left ( \\left[\\begin{matrix}2\\\\0\\\\0\\end{matrix}\\right], \\quad \\left[\\begin{matrix}0\\\\2\\\\2\\end{matrix}\\right], \\quad \\left[\\begin{matrix}2\\\\2\\\\3\\end{matrix}\\right]\\right )$$"
      ],
      "text/plain": [
       "⎛⎡2⎤  ⎡0⎤  ⎡2⎤⎞\n",
       "⎜⎢ ⎥  ⎢ ⎥  ⎢ ⎥⎟\n",
       "⎜⎢0⎥, ⎢2⎥, ⎢2⎥⎟\n",
       "⎜⎢ ⎥  ⎢ ⎥  ⎢ ⎥⎟\n",
       "⎝⎣0⎦  ⎣2⎦  ⎣3⎦⎠"
      ]
     },
     "execution_count": 14,
     "metadata": {},
     "output_type": "execute_result"
    }
   ],
   "source": [
    "#1.(c)\n",
    "X, Y, Z = Matrix([[2], [0],[0]]), Matrix([[0],[2], [2]]), Matrix([[2],[2], [3]])\n",
    "X,Y, Z\n",
    "\n",
    "# R^3"
   ]
  },
  {
   "cell_type": "markdown",
   "metadata": {},
   "source": [
    "## Ch1.2 Lengths and Dot Products\n",
    "\n",
    "By using numpy to calculate:\n",
    "\n",
    "* Dot product\n",
    "* Length (normalization)\n",
    "* Cosine Formula (Schwaza Inequality) \n",
    "* Triangle Inequality\n"
   ]
  },
  {
   "cell_type": "code",
   "execution_count": 7,
   "metadata": {},
   "outputs": [
    {
     "data": {
      "text/plain": [
       "(11, 11)"
      ]
     },
     "execution_count": 7,
     "metadata": {},
     "output_type": "execute_result"
    }
   ],
   "source": [
    "import numpy as np\n",
    "X=[1,2]\n",
    "Y=[3,4]\n",
    "#dot mutiply\n",
    "np.dot(X,Y), np.vdot(X,Y)"
   ]
  },
  {
   "cell_type": "code",
   "execution_count": 10,
   "metadata": {},
   "outputs": [
    {
     "name": "stdout",
     "output_type": "stream",
     "text": [
      "True\n"
     ]
    },
    {
     "data": {
      "text/plain": [
       "(0.17985349979247847, 0.057249147048700245)"
      ]
     },
     "execution_count": 10,
     "metadata": {},
     "output_type": "execute_result"
    }
   ],
   "source": [
    "#cosine formula, or Schwaza Inequality by divede to prove\n",
    "cosine=np.dot(X,Y)/(np.linalg.norm(X)*np.linalg.norm(Y))\n",
    "\n",
    "#Triangle Inequality\n",
    "print(np.linalg.norm(X+Y) < np.linalg.norm(X) + np.linalg.norm(Y))\n",
    "\n",
    "#angle include pi and angle\n",
    "np.arccos(cosine), np.arccos(cosine)/np.pi"
   ]
  }
 ],
 "metadata": {
  "kernelspec": {
   "display_name": "Python 3",
   "language": "python",
   "name": "python3"
  },
  "language_info": {
   "codemirror_mode": {
    "name": "ipython",
    "version": 3
   },
   "file_extension": ".py",
   "mimetype": "text/x-python",
   "name": "python",
   "nbconvert_exporter": "python",
   "pygments_lexer": "ipython3",
   "version": "3.7.0"
  }
 },
 "nbformat": 4,
 "nbformat_minor": 2
}
