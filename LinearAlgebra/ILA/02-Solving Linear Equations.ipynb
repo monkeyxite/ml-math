{
 "cells": [
  {
   "cell_type": "markdown",
   "metadata": {},
   "source": [
    "# Solving Linear Equations\n",
    "\n",
    "## 2.1 Vector and Linear Equations\n",
    "\n",
    "### Contents\n",
    "\n",
    "#### Matlab  vs numpy matrix operation and handling \n",
    "One key reference is from numpy doc: [numpy for matlab users](https://docs.scipy.org/doc/numpy-1.15.0/user/numpy-for-matlab-users.html)"
   ]
  },
  {
   "cell_type": "code",
   "execution_count": 34,
   "metadata": {},
   "outputs": [
    {
     "name": "stdout",
     "output_type": "stream",
     "text": [
      "[[ 1  2  3]\n",
      " [ 2  5  2]\n",
      " [ 6 -3  1]]\n",
      "[[0 0 6]\n",
      " [0 0 4]\n",
      " [0 0 2]]\n",
      "[6 4 2]\n"
     ]
    },
    {
     "data": {
      "text/plain": [
       "(array([1, 2, 3]), array([1, 2, 6]), 2)"
      ]
     },
     "execution_count": 34,
     "metadata": {},
     "output_type": "execute_result"
    }
   ],
   "source": [
    "import numpy as np\n",
    "# Matrix definition\n",
    "# vs Matlab: a = [1 2 3 4]; b = [5 6 7 8];\n",
    "a = np.array([1,2,3,4]); b = np.array([5,6,7,8])\n",
    "#A = [1 2 3; 2 5 2; 6 -3 1] ;x=[0;0;2]\n",
    "A = np.array([[1,2,3],[2,5,2],[6,-3,1]]); x = np.array([0,0,2])\n",
    "# Matrix pickup with row, column\n",
    "# vs Matlab: a(1),a(:,1), a(0,0)\n",
    "A[0], A[:,0], A[0][0]\n",
    "\n",
    "# dot mutiply\n",
    "# vs Matlab: a .* b\n",
    "np.dot(A,x)\n",
    "\n",
    "print(A)\n",
    "print(A*x)\n",
    "print(np.dot(A,x))\n",
    "A[0], A[:,0], A[0][1]"
   ]
  },
  {
   "cell_type": "code",
   "execution_count": null,
   "metadata": {},
   "outputs": [],
   "source": []
  }
 ],
 "metadata": {
  "kernelspec": {
   "display_name": "Python 3",
   "language": "python",
   "name": "python3"
  },
  "language_info": {
   "codemirror_mode": {
    "name": "ipython",
    "version": 3
   },
   "file_extension": ".py",
   "mimetype": "text/x-python",
   "name": "python",
   "nbconvert_exporter": "python",
   "pygments_lexer": "ipython3",
   "version": "3.7.0"
  },
  "toc": {
   "base_numbering": 1,
   "nav_menu": {},
   "number_sections": true,
   "sideBar": true,
   "skip_h1_title": false,
   "title_cell": "Table of Contents",
   "title_sidebar": "Contents",
   "toc_cell": false,
   "toc_position": {},
   "toc_section_display": true,
   "toc_window_display": false
  },
  "varInspector": {
   "cols": {
    "lenName": 16,
    "lenType": 16,
    "lenVar": 40
   },
   "kernels_config": {
    "python": {
     "delete_cmd_postfix": "",
     "delete_cmd_prefix": "del ",
     "library": "var_list.py",
     "varRefreshCmd": "print(var_dic_list())"
    },
    "r": {
     "delete_cmd_postfix": ") ",
     "delete_cmd_prefix": "rm(",
     "library": "var_list.r",
     "varRefreshCmd": "cat(var_dic_list()) "
    }
   },
   "types_to_exclude": [
    "module",
    "function",
    "builtin_function_or_method",
    "instance",
    "_Feature"
   ],
   "window_display": false
  }
 },
 "nbformat": 4,
 "nbformat_minor": 2
}
